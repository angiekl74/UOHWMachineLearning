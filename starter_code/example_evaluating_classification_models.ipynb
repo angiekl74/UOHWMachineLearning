{
 "cells": [
  {
   "cell_type": "markdown",
   "metadata": {},
   "source": [
    "## Evaluating a classification model - how to evaluate how good your model is?\n",
    "https://www.youtube.com/watch?v=85dtiMz9tSo\n",
    "\n",
    "1. Regression problems: Mean Absolute Error, Mean Squared Error, Root Mean Squared Error\n",
    "2. Classification problems: Classification accuracy"
   ]
  },
  {
   "cell_type": "markdown",
   "metadata": {},
   "source": [
    "## Method 1:  Classification Accuracy method"
   ]
  },
  {
   "cell_type": "code",
   "execution_count": 6,
   "metadata": {},
   "outputs": [
    {
     "data": {
      "text/html": [
       "<div>\n",
       "<style scoped>\n",
       "    .dataframe tbody tr th:only-of-type {\n",
       "        vertical-align: middle;\n",
       "    }\n",
       "\n",
       "    .dataframe tbody tr th {\n",
       "        vertical-align: top;\n",
       "    }\n",
       "\n",
       "    .dataframe thead th {\n",
       "        text-align: right;\n",
       "    }\n",
       "</style>\n",
       "<table border=\"1\" class=\"dataframe\">\n",
       "  <thead>\n",
       "    <tr style=\"text-align: right;\">\n",
       "      <th></th>\n",
       "      <th>pregnant</th>\n",
       "      <th>glucose</th>\n",
       "      <th>bp</th>\n",
       "      <th>skin</th>\n",
       "      <th>insulin</th>\n",
       "      <th>bmi</th>\n",
       "      <th>pedigree</th>\n",
       "      <th>age</th>\n",
       "      <th>label</th>\n",
       "    </tr>\n",
       "  </thead>\n",
       "  <tbody>\n",
       "    <tr>\n",
       "      <th>0</th>\n",
       "      <td>6</td>\n",
       "      <td>148</td>\n",
       "      <td>72</td>\n",
       "      <td>35</td>\n",
       "      <td>0</td>\n",
       "      <td>33.6</td>\n",
       "      <td>0.627</td>\n",
       "      <td>50</td>\n",
       "      <td>1</td>\n",
       "    </tr>\n",
       "    <tr>\n",
       "      <th>1</th>\n",
       "      <td>1</td>\n",
       "      <td>85</td>\n",
       "      <td>66</td>\n",
       "      <td>29</td>\n",
       "      <td>0</td>\n",
       "      <td>26.6</td>\n",
       "      <td>0.351</td>\n",
       "      <td>31</td>\n",
       "      <td>0</td>\n",
       "    </tr>\n",
       "    <tr>\n",
       "      <th>2</th>\n",
       "      <td>8</td>\n",
       "      <td>183</td>\n",
       "      <td>64</td>\n",
       "      <td>0</td>\n",
       "      <td>0</td>\n",
       "      <td>23.3</td>\n",
       "      <td>0.672</td>\n",
       "      <td>32</td>\n",
       "      <td>1</td>\n",
       "    </tr>\n",
       "    <tr>\n",
       "      <th>3</th>\n",
       "      <td>1</td>\n",
       "      <td>89</td>\n",
       "      <td>66</td>\n",
       "      <td>23</td>\n",
       "      <td>94</td>\n",
       "      <td>28.1</td>\n",
       "      <td>0.167</td>\n",
       "      <td>21</td>\n",
       "      <td>0</td>\n",
       "    </tr>\n",
       "    <tr>\n",
       "      <th>4</th>\n",
       "      <td>0</td>\n",
       "      <td>137</td>\n",
       "      <td>40</td>\n",
       "      <td>35</td>\n",
       "      <td>168</td>\n",
       "      <td>43.1</td>\n",
       "      <td>2.288</td>\n",
       "      <td>33</td>\n",
       "      <td>1</td>\n",
       "    </tr>\n",
       "  </tbody>\n",
       "</table>\n",
       "</div>"
      ],
      "text/plain": [
       "   pregnant  glucose  bp  skin  insulin   bmi  pedigree  age  label\n",
       "0         6      148  72    35        0  33.6     0.627   50      1\n",
       "1         1       85  66    29        0  26.6     0.351   31      0\n",
       "2         8      183  64     0        0  23.3     0.672   32      1\n",
       "3         1       89  66    23       94  28.1     0.167   21      0\n",
       "4         0      137  40    35      168  43.1     2.288   33      1"
      ]
     },
     "execution_count": 6,
     "metadata": {},
     "output_type": "execute_result"
    }
   ],
   "source": [
    "import pandas as pd\n",
    "# url=\"https://archive.ics.uci.edu/ml/machine-learning-databases/pima-indians-diabetes/pima-indians-diabetes.data\"\n",
    "col_names = [\"pregnant\", \"glucose\", \"bp\", \"skin\", \"insulin\", \"bmi\", \"pedigree\", \"age\", \"label\"]\n",
    "# pima=pd.read_csv(url, header=None, names=col_names)\n",
    "pima = pd.read_csv(\"pima-indians-diabetes.csv\", header=None, names=col_names)\n",
    "pima.head()"
   ]
  },
  {
   "cell_type": "markdown",
   "metadata": {},
   "source": [
    "#### Question:  Can we predict the diabetes status of a patient given their health measurements?"
   ]
  },
  {
   "cell_type": "code",
   "execution_count": 7,
   "metadata": {},
   "outputs": [],
   "source": [
    "# define X and y\n",
    "feature_cols = [\"pregnant\", \"insulin\", \"bmi\", \"age\"]\n",
    "X = pima[feature_cols]\n",
    "y = pima.label"
   ]
  },
  {
   "cell_type": "code",
   "execution_count": 10,
   "metadata": {},
   "outputs": [],
   "source": [
    "# Split it\n",
    "from sklearn.model_selection import train_test_split\n",
    "X_train, X_test, y_train, y_test = train_test_split(X, y, random_state=0)"
   ]
  },
  {
   "cell_type": "code",
   "execution_count": 17,
   "metadata": {},
   "outputs": [
    {
     "data": {
      "text/plain": [
       "LogisticRegression(C=1.0, class_weight=None, dual=False, fit_intercept=True,\n",
       "                   intercept_scaling=1, l1_ratio=None, max_iter=100,\n",
       "                   multi_class='auto', n_jobs=None, penalty='l2',\n",
       "                   random_state=None, solver='lbfgs', tol=0.0001, verbose=0,\n",
       "                   warm_start=False)"
      ]
     },
     "execution_count": 17,
     "metadata": {},
     "output_type": "execute_result"
    }
   ],
   "source": [
    "# Train Logistic Regression model. The model is learning the relationship between\n",
    "# X_train and y_train\n",
    "\n",
    "from sklearn.linear_model import LogisticRegression\n",
    "logreg = LogisticRegression()\n",
    "logreg.fit(X_train, y_train)"
   ]
  },
  {
   "cell_type": "code",
   "execution_count": 14,
   "metadata": {},
   "outputs": [],
   "source": [
    "# make predictions for Testing data\n",
    "y_pred_class = logreg.predict(X_test)"
   ]
  },
  {
   "cell_type": "markdown",
   "metadata": {},
   "source": [
    "#### Review CLASSIFICATION accuracy: % of CORRECT PREDICTIONS (using metric.accuracy_score)"
   ]
  },
  {
   "cell_type": "code",
   "execution_count": 16,
   "metadata": {},
   "outputs": [
    {
     "name": "stdout",
     "output_type": "stream",
     "text": [
      "0.6770833333333334\n"
     ]
    }
   ],
   "source": [
    "from sklearn import metrics\n",
    "print(metrics.accuracy_score(y_test, y_pred_class))"
   ]
  },
  {
   "cell_type": "markdown",
   "metadata": {},
   "source": [
    "#### Review NULL accuracy: Accuracy that could be achieved by always predicting the most frequent class\n",
    " * Null accuracy answers the question:  IF my model was to predict the PREDOMINANT CLASS (i.e. 0) 100% of the time, how OFTEN will it be correct?\n",
    " * Note: Method below only works because it is only 1 and 0"
   ]
  },
  {
   "cell_type": "code",
   "execution_count": 18,
   "metadata": {},
   "outputs": [
    {
     "data": {
      "text/plain": [
       "0    130\n",
       "1     62\n",
       "Name: label, dtype: int64"
      ]
     },
     "execution_count": 18,
     "metadata": {},
     "output_type": "execute_result"
    }
   ],
   "source": [
    "# Examine the class distribution of the testing set\n",
    "y_test.value_counts()"
   ]
  },
  {
   "cell_type": "code",
   "execution_count": 23,
   "metadata": {},
   "outputs": [
    {
     "data": {
      "text/plain": [
       "0.3229166666666667"
      ]
     },
     "execution_count": 23,
     "metadata": {},
     "output_type": "execute_result"
    }
   ],
   "source": [
    "# Calculate the percentage of ones \n",
    "y_test.mean()\n"
   ]
  },
  {
   "cell_type": "code",
   "execution_count": 27,
   "metadata": {},
   "outputs": [
    {
     "data": {
      "text/plain": [
       "0.6770833333333333"
      ]
     },
     "execution_count": 27,
     "metadata": {},
     "output_type": "execute_result"
    }
   ],
   "source": [
    "# Calculate the percentage of zeros (NULL Accuracy)\n",
    "1 - y_test.mean()\n",
    "\n",
    "# Note1: Here, 68% is greater than 32%, 68% if the NULL ACCURACY\n",
    "#       for this problem.\n",
    "# Note2: A DUMB model that always predicts a patient DOES NOT have diabetes, \n",
    "#        will be correct 68% of the time.\n",
    "# Note3: Compare NULL accuracy (68%) with the ACCURACY_SCORE (68%).  Now,\n",
    "#        our model DOES NOT look very good.  Think of NULL accuracy as a baseline."
   ]
  },
  {
   "cell_type": "code",
   "execution_count": 28,
   "metadata": {},
   "outputs": [
    {
     "data": {
      "text/plain": [
       "0.6770833333333333"
      ]
     },
     "execution_count": 28,
     "metadata": {},
     "output_type": "execute_result"
    }
   ],
   "source": [
    "# Another method. Calculate the NULL accuracy (for binary classification problem for zeros and ones)\n",
    "max(y_test.mean(), 1 - y_test.mean())"
   ]
  },
  {
   "cell_type": "code",
   "execution_count": 29,
   "metadata": {},
   "outputs": [
    {
     "data": {
      "text/plain": [
       "0    0.677083\n",
       "Name: label, dtype: float64"
      ]
     },
     "execution_count": 29,
     "metadata": {},
     "output_type": "execute_result"
    }
   ],
   "source": [
    "# Calculate NULL accuracy for MULTI-CLASS classification problems \n",
    "# Will only work if y_test is a PANDA SERIES. Make sure\n",
    "# the most frequent class is at row 1!!\n",
    "\n",
    "y_test.value_counts().head(1) / len(y_test)"
   ]
  },
  {
   "cell_type": "markdown",
   "metadata": {},
   "source": [
    "#### Comparing the TRUE and PREDICTED response values\n",
    "* There is a pattern.  When the TRUE is a 0, the models usually predicts also a 0.  BUT when the TRUE is a 1, the model usually NEVER predicts a 1.  Interesting."
   ]
  },
  {
   "cell_type": "code",
   "execution_count": 32,
   "metadata": {},
   "outputs": [
    {
     "name": "stdout",
     "output_type": "stream",
     "text": [
      "True values:  [1 0 0 1 0 0 1 1 0 0 1 1 0 0 0]\n",
      "Pred values:  [0 0 0 0 0 0 0 1 0 1 0 1 0 0 0]\n"
     ]
    }
   ],
   "source": [
    "print(\"True values: \", y_test.values[0:15])\n",
    "print(\"Pred values: \", y_pred_class[0:15])"
   ]
  },
  {
   "cell_type": "markdown",
   "metadata": {},
   "source": [
    "#### CONCLUSION FOR USING CLASSIFICATION ACCURACY:\n",
    "1. Classification accuracy is the easiest classification metric to understand\n",
    "2. BUT, it doesn't tell you the UNDERLYING DISTRIBUTION of response values via calculating null accuracy\n",
    "3. Also it DOES NOT tell you what \"TYPES\" of ERRORS your classifier model is making.  "
   ]
  },
  {
   "cell_type": "markdown",
   "metadata": {},
   "source": [
    "## Method 2:  Confusion Matrix method\n",
    "* Loosely define as a TABLE that describes the performance of a classification model\n",
    "* Outputs a 2x2 numpy array\n",
    "* Good to use this to help you UNDERSTAND the PERFORMANCE for the model, but can it help you to choose between models? It is NOT a model evaluation metric. Can't tell sklearn to choose the model with the best confusion matrix. But there are many matrix which can be calculated from the CONFUSION matrix. You can use these to help you choose between models"
   ]
  },
  {
   "cell_type": "code",
   "execution_count": 33,
   "metadata": {},
   "outputs": [
    {
     "name": "stdout",
     "output_type": "stream",
     "text": [
      "[[114  16]\n",
      " [ 46  16]]\n"
     ]
    }
   ],
   "source": [
    "# IMPORTANT! First argument is TRUE values, second arguments is PREDICTED VALUES\n",
    "print(metrics.confusion_matrix(y_test, y_pred_class))"
   ]
  },
  {
   "cell_type": "markdown",
   "metadata": {},
   "source": [
    "* Every observation in the TESTING set is represented in exactly one box.\n",
    "* Its a 2x2 because there are only 2 response classes here. If you had 5 outcomes, then it will be a 5x5 matrix\n"
   ]
  },
  {
   "cell_type": "markdown",
   "metadata": {},
   "source": [
    "#### Basic Terminology for BINARY problem:\n",
    "* TRUE POSITIVE (TP): We correctly predicted that they DO have diabetes\n",
    "* TRUE NEGATIVE (TN): We correctly predicted that they DON'T have diabetes\n",
    "* False positive (FP): We INCORRECTLY predicted that they do have diabetes (type 1 error)\n",
    "* False negative (FN): We INCORRECTLY preidcted that they DON'T have diabetes (type II error)"
   ]
  },
  {
   "cell_type": "code",
   "execution_count": 35,
   "metadata": {},
   "outputs": [
    {
     "name": "stdout",
     "output_type": "stream",
     "text": [
      "True values:  [1 0 0 1 0 0 1 1 0 0 1 1 0 0 0]\n",
      "Pred values:  [0 0 0 0 0 0 0 1 0 1 0 1 0 0 0]\n"
     ]
    }
   ],
   "source": [
    "# See if you can find examples of confusion matrix\n",
    "print(\"True values: \", y_test.values[0:15])\n",
    "print(\"Pred values: \", y_pred_class[0:15])"
   ]
  },
  {
   "cell_type": "code",
   "execution_count": 38,
   "metadata": {},
   "outputs": [],
   "source": [
    "# Save cofusion matrix and slice into 4\n",
    "confusion = metrics.confusion_matrix(y_test, y_pred_class)\n",
    "TP = confusion[1, 1]\n",
    "TN = confusion[0, 0]\n",
    "FP = confusion[0, 1] # falsely preicted a positive (1) when it was really a negative (0)\n",
    "FN = confusion[1, 0] # falsely preicted a negative (0) when it was really a positive (1)"
   ]
  },
  {
   "cell_type": "markdown",
   "metadata": {},
   "source": [
    "#### Metrics computed from a Confusion Matrix (to help you decide which model to choose)"
   ]
  },
  {
   "cell_type": "code",
   "execution_count": 41,
   "metadata": {},
   "outputs": [
    {
     "name": "stdout",
     "output_type": "stream",
     "text": [
      "0.6770833333333334\n",
      "0.6770833333333334\n"
     ]
    }
   ],
   "source": [
    "# Metric 1 - Classification Accuracy - How often is the model correct in predicting?\n",
    "# The accuracy_score function does the same thing\n",
    "\n",
    "print((TP + TN) / float(TP+TN+FP+FN)) # Both are true\n",
    "print(metrics.accuracy_score(y_test, y_pred_class))"
   ]
  },
  {
   "cell_type": "code",
   "execution_count": 42,
   "metadata": {},
   "outputs": [
    {
     "name": "stdout",
     "output_type": "stream",
     "text": [
      "0.3229166666666667\n",
      "0.32291666666666663\n"
     ]
    }
   ],
   "source": [
    "# Metric 2 - CLASSIFICATION ERROR (Misclassification Rate) - How often is the model INCORRECT ?\n",
    "\n",
    "print((FP+FN)/float(TP+TN+FP+FN)) # Both are FALSE\n",
    "print(1 - metrics.accuracy_score(y_test, y_pred_class))\n"
   ]
  },
  {
   "cell_type": "code",
   "execution_count": 45,
   "metadata": {},
   "outputs": [
    {
     "name": "stdout",
     "output_type": "stream",
     "text": [
      "0.25806451612903225\n",
      "0.25806451612903225\n"
     ]
    }
   ],
   "source": [
    "# Metric 3 - SENSITIVITY: when the actual value was positive, how often did it predict correctly?\n",
    "# How \"sensitive\" is the classifier model to detecting POSITIVE instances?\n",
    "# Also known as \"TRUE POSITIVE RATE\" or \"RECALL\"\n",
    "# You want to MAXIMIZE (closer to 1 is best) this value because it predicting correctly\n",
    "\n",
    "print(TP / float(TP+FN))\n",
    "print(metrics.recall_score(y_test, y_pred_class))\n"
   ]
  },
  {
   "cell_type": "code",
   "execution_count": 46,
   "metadata": {},
   "outputs": [
    {
     "name": "stdout",
     "output_type": "stream",
     "text": [
      "0.8769230769230769\n"
     ]
    }
   ],
   "source": [
    "# Metric 4 - SPECIFICITY: When the actual value is negative, how often was the prdiction correct?\n",
    "# How specific/selective is the model in predicting positive instances?\n",
    "# You want to MAXIMIZE (closer to 1 is best) this value because it predicting correctly\n",
    "# No sklearn function for this.  Calculate manually\n",
    "\n",
    "print (TN/float(TN+FP))"
   ]
  },
  {
   "cell_type": "markdown",
   "metadata": {},
   "source": [
    "#### Mini conclusion here: This model is highly SPECIFIC but not highly SENSITIVE"
   ]
  },
  {
   "cell_type": "code",
   "execution_count": 50,
   "metadata": {},
   "outputs": [
    {
     "name": "stdout",
     "output_type": "stream",
     "text": [
      "0.12307692307692308\n"
     ]
    }
   ],
   "source": [
    "# Metric 5 - FALSE POSITIVE RATE: When the actual value is negative, how often is the prediction INCORRECT?\n",
    "# 1 - SPECIFICITY\n",
    "\n",
    "print(FP/float(TN+FP))"
   ]
  },
  {
   "cell_type": "code",
   "execution_count": 51,
   "metadata": {},
   "outputs": [
    {
     "name": "stdout",
     "output_type": "stream",
     "text": [
      "0.5\n",
      "0.5\n"
     ]
    }
   ],
   "source": [
    "# Metric 6 - PRECISION: When a positive value is predicted, how often is the prediction correct?\n",
    "# How PRECISE is the model when predicting POSITIVE instances?\n",
    "\n",
    "print(TP/float(TP+FP))\n",
    "print(metrics.precision_score(y_test, y_pred_class))"
   ]
  },
  {
   "cell_type": "markdown",
   "metadata": {},
   "source": [
    "#### CONCLUSION!!\n",
    "\n",
    "1. Many other metrics can be calculated: F1 score, Matthew correlation coefficient etc.\n",
    "\n",
    "2. Confusion matric gives you a more complete picture of how your classifier is performing\n",
    "3. Also allows you to compute VARIOUS classification metrics and help guide model selection\n",
    "\n",
    "4. Which metrics to focus on?\n",
    "    * Depends on business objectives\n",
    "    * Example 1:  If trying to figure SPAM filter moel, OPTIMIZE PRECISION OR SPECIFICITY because false negatives (SPAM does into INBOX) is more acceptable than false positives (non-spam is caught by spam filter)\n",
    "    * Exmaple 2: OPTIMIZE SENSITIVITY because false positives (normal transactions that are flagged as possible frauds) is more acceptable than false negatives (fraudulent transactions that are NOT detected)\n"
   ]
  },
  {
   "cell_type": "markdown",
   "metadata": {},
   "source": [
    "## Adjusting the classification threshold"
   ]
  },
  {
   "cell_type": "code",
   "execution_count": 52,
   "metadata": {},
   "outputs": [
    {
     "data": {
      "text/plain": [
       "array([0, 0, 0, 0, 0, 0, 0, 1, 0, 1], dtype=int64)"
      ]
     },
     "execution_count": 52,
     "metadata": {},
     "output_type": "execute_result"
    }
   ],
   "source": [
    "# Print the first 10 predicted response\n",
    "logreg.predict(X_test)[0:10]"
   ]
  },
  {
   "cell_type": "code",
   "execution_count": 60,
   "metadata": {},
   "outputs": [
    {
     "data": {
      "text/plain": [
       "array([[0.61405867, 0.38594133],\n",
       "       [0.7505398 , 0.2494602 ],\n",
       "       [0.74167648, 0.25832352],\n",
       "       [0.60291327, 0.39708673],\n",
       "       [0.88426611, 0.11573389],\n",
       "       [0.87695895, 0.12304105],\n",
       "       [0.50819992, 0.49180008],\n",
       "       [0.44582289, 0.55417711],\n",
       "       [0.77950769, 0.22049231],\n",
       "       [0.25853303, 0.74146697]])"
      ]
     },
     "execution_count": 60,
     "metadata": {},
     "output_type": "execute_result"
    }
   ],
   "source": [
    "# Print the first 10 predicted PROBABILITIES of class membership\n",
    "logreg.predict_proba(X_test)[0:10, :]\n",
    "\n",
    "# 2 classes. On the left, probability of class 0, right, probability of class 1"
   ]
  },
  {
   "cell_type": "code",
   "execution_count": 54,
   "metadata": {},
   "outputs": [
    {
     "data": {
      "text/plain": [
       "array([0.38594133, 0.2494602 , 0.25832352, 0.39708673, 0.11573389,\n",
       "       0.12304105, 0.49180008, 0.55417711, 0.22049231, 0.74146697])"
      ]
     },
     "execution_count": 54,
     "metadata": {},
     "output_type": "execute_result"
    }
   ],
   "source": [
    "# Print the first 10 predicted PROBABILITIES of class 1\n",
    "logreg.predict_proba(X_test)[0:10, 1]"
   ]
  },
  {
   "cell_type": "code",
   "execution_count": 61,
   "metadata": {},
   "outputs": [],
   "source": [
    "# Store the prdicted probabilities for class 1\n",
    "y_pred_prob = logreg.predict_proba(X_test)[:, 1]"
   ]
  },
  {
   "cell_type": "code",
   "execution_count": 62,
   "metadata": {},
   "outputs": [],
   "source": [
    "# allos plots\n",
    "%matplotlib inline\n",
    "import matplotlib.pyplot as plt\n",
    "plt.rcParams['font.size'] = 14"
   ]
  },
  {
   "cell_type": "code",
   "execution_count": 63,
   "metadata": {},
   "outputs": [
    {
     "data": {
      "text/plain": [
       "Text(0, 0.5, 'Frequency')"
      ]
     },
     "execution_count": 63,
     "metadata": {},
     "output_type": "execute_result"
    },
    {
     "data": {
      "image/png": "[encoded data removed]",
      "text/plain": [
       "<Figure size 432x288 with 1 Axes>"
      ]
     },
     "metadata": {
      "needs_background": "light"
     },
     "output_type": "display_data"
    }
   ],
   "source": [
    "# Histogram of predicted probabilities\n",
    "plt.hist(y_pred_prob, bins=8)\n",
    "plt.xlim(0,1)\n",
    "plt.title(\"Histogram of predicted probabilities\")\n",
    "plt.xlabel(\"Predicted probability of diabetes\")\n",
    "plt.ylabel(\"Frequency\")"
   ]
  },
  {
   "cell_type": "markdown",
   "metadata": {},
   "source": [
    "#### Decrease the threshold for predicting diabetes in order to INCREASE THE SENSITIVITY of the classifier (ie. So, you get more cases of diabetes)\n"
   ]
  },
  {
   "cell_type": "code",
   "execution_count": 65,
   "metadata": {},
   "outputs": [],
   "source": [
    "# Predict diabetes if the PREDICTED PROBABILITY is greater than 0.3\n",
    "\n",
    "# from sklearn.preprocessing import binarize\n",
    "# y_pred_class = binarize(y_pred_prob, 0.3)[0]"
   ]
  },
  {
   "cell_type": "markdown",
   "metadata": {},
   "source": [
    "#### Conclusion!!\n",
    "\n",
    "1. Threshold is 0.5 because it is a binary problem.  To convert PROBABILITIES INTO CLASS PREDICTIONS\n",
    "2. Threshold can be adjusted to increase Sensitivity or Specificity (Its the very last thing you should do)\n",
    "3. Sensitivity and Specificity have an INVERSE relationship"
   ]
  },
  {
   "cell_type": "markdown",
   "metadata": {},
   "source": [
    "## ROC Curves and Area Under the Curve (AUC)\n",
    "* Question:  Wouldn't it be nice if we could see how sensitivity and specificity are affected by various thresholds, without actually changing the thresholds?\n",
    "* Answer: Plot the ROC curve!!\n",
    "    1. ROC curve can help you to choose a threshold that balances sensitivity and specificity\n",
    "    2. You can't see the thresholds used to generate the curve on the ROC curve itself"
   ]
  },
  {
   "cell_type": "code",
   "execution_count": 67,
   "metadata": {},
   "outputs": [
    {
     "data": {
      "image/png": "[encoded data removed]",
      "text/plain": [
       "<Figure size 432x288 with 1 Axes>"
      ]
     },
     "metadata": {
      "needs_background": "light"
     },
     "output_type": "display_data"
    }
   ],
   "source": [
    "# IMPORTANT: First argument it true values, 2nd is predicted values\n",
    "fpr, tpr, thresholds = metrics.roc_curve(y_test, y_pred_prob)\n",
    "plt.plot(fpr, tpr)\n",
    "plt.xlim([0.0, 1.0])\n",
    "plt.ylim([0.0, 1.0])\n",
    "plt.title(\"ROC curve for diabetes classifier\")\n",
    "plt.xlabel(\"1-SPECIFICITY: False Positive Rate\")\n",
    "plt.ylabel(\"SENSITIVITY: True Positive Rate\")\n",
    "plt.grid(True)"
   ]
  },
  {
   "cell_type": "markdown",
   "metadata": {},
   "source": [
    "#### Based on the chart, if you want to achieve a sensitivity of 0.8, you have to be willing to accept a specificity of around 0.6 (1-0.4)"
   ]
  },
  {
   "cell_type": "code",
   "execution_count": 68,
   "metadata": {},
   "outputs": [],
   "source": [
    "# define a function that accepts a threshold and prints sensitivity and specificity\n",
    "\n",
    "def evaluate_threshold(threshold):\n",
    "    print(\"Sensitivity: \", tpr[thresholds > threshold][-1])\n",
    "    print(\"Specificity: \", 1-fpr[thresholds > threshold][-1])"
   ]
  },
  {
   "cell_type": "code",
   "execution_count": 69,
   "metadata": {},
   "outputs": [
    {
     "name": "stdout",
     "output_type": "stream",
     "text": [
      "Sensitivity:  0.25806451612903225\n",
      "Specificity:  0.8769230769230769\n"
     ]
    }
   ],
   "source": [
    "# Evaluate 0.5 threshold\n",
    "evaluate_threshold(0.5)"
   ]
  },
  {
   "cell_type": "code",
   "execution_count": 70,
   "metadata": {},
   "outputs": [
    {
     "name": "stdout",
     "output_type": "stream",
     "text": [
      "Sensitivity:  0.7258064516129032\n",
      "Specificity:  0.6307692307692307\n"
     ]
    }
   ],
   "source": [
    "# Evaluate 0.3 threshold\n",
    "evaluate_threshold(0.3)"
   ]
  },
  {
   "cell_type": "markdown",
   "metadata": {},
   "source": [
    "#### AUC is the PERCENTAGE of the ROC plot that is underneath teh curve.\n",
    "* AUC is useful as a single number summary of classifier performance\n",
    "* If you randomly chose one positive and one negative observation, AUC represent the likelihood that your classifier will assign a higher preicted probability to the positive observation\n",
    "* AUC is useful EVEN when there is HIGH CLASS IMBALANCE\n",
    "* AUC is useful as a metric for choosing between models"
   ]
  },
  {
   "cell_type": "code",
   "execution_count": 73,
   "metadata": {},
   "outputs": [
    {
     "name": "stdout",
     "output_type": "stream",
     "text": [
      "0.7227047146401985\n"
     ]
    }
   ],
   "source": [
    "# IMPORTANT: 1st argument it true value, 2nd is predicted values\n",
    "# The closer to 1, the better the AUC score is\n",
    "print(metrics.roc_auc_score(y_test, y_pred_prob))"
   ]
  },
  {
   "cell_type": "markdown",
   "metadata": {},
   "source": [
    "## CONCLUSION\n",
    "\n"
   ]
  },
  {
   "cell_type": "markdown",
   "metadata": {},
   "source": [
    "#### Confusion matrix advantages:\n",
    "1. Allows you to calculate a variety of metrics\n",
    "2. Usefult for MULTI-CLASS problems (more than 2 responses)\n"
   ]
  },
  {
   "cell_type": "markdown",
   "metadata": {},
   "source": [
    "#### ROC/AUC advantages:\n",
    "1. Does not require you to set a classification threshold\n",
    "2. Still useful when there is HIGH CLASS IMBALANCE"
   ]
  },
  {
   "cell_type": "code",
   "execution_count": null,
   "metadata": {},
   "outputs": [],
   "source": []
  }
 ],
 "metadata": {
  "kernelspec": {
   "display_name": "Python 3",
   "language": "python",
   "name": "python3"
  },
  "language_info": {
   "codemirror_mode": {
    "name": "ipython",
    "version": 3
   },
   "file_extension": ".py",
   "mimetype": "text/x-python",
   "name": "python",
   "nbconvert_exporter": "python",
   "pygments_lexer": "ipython3",
   "version": "3.7.6"
  }
 },
 "nbformat": 4,
 "nbformat_minor": 2
}
