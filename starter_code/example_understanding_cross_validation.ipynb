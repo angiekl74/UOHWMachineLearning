{
 "cells": [
  {
   "cell_type": "markdown",
   "metadata": {},
   "source": [
    "## Why validate?  Need a way to help maybe...\n",
    "1. Choose best parameter\n",
    "2. Choose best model\n",
    "3. Choose best features\n",
    "\n",
    "### Note: Cross validation works with both regression and classification models.\n",
    "\n"
   ]
  },
  {
   "cell_type": "markdown",
   "metadata": {},
   "source": [
    "1. We know that using ENTIRE TRAINING data to build a model is NOT good\n",
    "2. TRAIN/TEST split is better but also, not that great! For example, you can change random_state to get the best accuracy score on your TRAINING data but how will this impact PREDICTING your REAL data??\n",
    "3.  Hence, CROSS VALIDATION! (create a bunch of train/test splits, avg the score)"
   ]
  },
  {
   "cell_type": "markdown",
   "metadata": {},
   "source": [
    "## Most common type of cross validation - K FOLD cross validation. \n"
   ]
  },
  {
   "cell_type": "markdown",
   "metadata": {},
   "source": [
    "#### Comparing train/test split to cross_validation\n",
    "1. More accurate estimate for out-of-sample accuracy\n",
    "2. More efficient use of data (every observatio is used for training and testing)"
   ]
  },
  {
   "cell_type": "markdown",
   "metadata": {},
   "source": [
    "#### Advantages of train/test split\n",
    "1.  Runs faster \n",
    "2. Simplier to examine the detailed results of the testing process"
   ]
  },
  {
   "cell_type": "markdown",
   "metadata": {},
   "source": [
    "## Cross validation recommendations\n",
    "1. k=10 is generally recommended\n",
    "2. For CLASSIFICATION problems, STRATIFIED SAMPLING is recommended for creating the folds (sklearn cross_val_score function does this by default)"
   ]
  },
  {
   "cell_type": "markdown",
   "metadata": {},
   "source": [
    "## Cross validation example for PARAMETER TUNING (for choosing which types of model, check out section below).\n",
    "1. We are using KNN model\n",
    "2.  We are fine tuning the k in KNN (NOT the k in k-fold cross validation)"
   ]
  },
  {
   "cell_type": "code",
   "execution_count": 1,
   "metadata": {},
   "outputs": [],
   "source": [
    "import pandas as pd\n",
    "import numpy as np\n",
    "import seaborn as sns\n",
    "import matplotlib.pyplot as plt\n",
    "from sklearn.datasets import load_iris\n",
    "from sklearn.neighbors import KNeighborsClassifier\n",
    "from sklearn.model_selection import train_test_split\n",
    "from sklearn import metrics"
   ]
  },
  {
   "cell_type": "code",
   "execution_count": 2,
   "metadata": {},
   "outputs": [],
   "source": [
    "iris = load_iris()\n",
    "X = iris.data \n",
    "y= iris.target"
   ]
  },
  {
   "cell_type": "code",
   "execution_count": 9,
   "metadata": {},
   "outputs": [],
   "source": [
    "X_train, X_test, y_train, y_test = train_test_split(X, y, random_state=4)"
   ]
  },
  {
   "cell_type": "code",
   "execution_count": 10,
   "metadata": {},
   "outputs": [
    {
     "name": "stdout",
     "output_type": "stream",
     "text": [
      "Training accuracy KNN5 (% of predictions that were correct) is: 0.9736842105263158\n"
     ]
    }
   ],
   "source": [
    "knn5 = KNeighborsClassifier(n_neighbors = 5)\n",
    "knn5.fit(X_train,y_train)\n",
    "y_predicted_knn5 = knn5.predict(X_test)\n",
    "print(\"Training accuracy KNN5 (% of predictions that were correct) is:\", metrics.accuracy_score(y_test, y_predicted_knn5))"
   ]
  },
  {
   "cell_type": "code",
   "execution_count": 13,
   "metadata": {},
   "outputs": [],
   "source": [
    "from sklearn.model_selection import cross_val_score"
   ]
  },
  {
   "cell_type": "code",
   "execution_count": 18,
   "metadata": {},
   "outputs": [
    {
     "name": "stdout",
     "output_type": "stream",
     "text": [
      "[1.         0.93333333 1.         1.         0.86666667 0.93333333\n",
      " 0.93333333 1.         1.         1.        ]\n"
     ]
    }
   ],
   "source": [
    "# Testing 10 fold cross validation with k=5 in KNN model\n",
    "# Note #1:  We are passing ALL of X and y into cross_val_score, not X_train and y_train\n",
    "#            cross_val_score does the splitting for you into FOLDS so you don't have to do train/test split\n",
    "# Note #2: cv = 10 is the number of folds being passed into cross_validation\n",
    "# Note #3:  We want to use CLASSIFICATION ACCURACY as the evaluation metric\n",
    "# http://scott.fortmann-roe.com/docs/MeasuringError.html\n",
    "\n",
    "knn5 = KNeighborsClassifier(n_neighbors = 5)\n",
    "scores = cross_val_score(knn5, X, y, cv=10, scoring=\"accuracy\")\n",
    "print(scores)"
   ]
  },
  {
   "cell_type": "markdown",
   "metadata": {},
   "source": [
    "#### What does cross_val_score FUNCTION actually do and what does it return?  Basically, it executes the first 4 steps of Kfold_cross_validation which are:\n",
    "\n",
    "1. Split the dataset into K equal partitions/folds\n",
    "2. Use 1 fold as the testing set and the UNION of the other folds as the training set\n",
    "3. Calculate testing accuracy \n",
    "4. Repeats steps 2 and 3 for K times\n",
    "5. Calculates the AVERAGE testing accuracy as the estimate of out-of-sample accuracy.\n",
    "\n",
    "\n",
    "#### When done calculating, it will return the K accuracy scores as a numpy array.\n"
   ]
  },
  {
   "cell_type": "code",
   "execution_count": 23,
   "metadata": {},
   "outputs": [
    {
     "name": "stdout",
     "output_type": "stream",
     "text": [
      "Avg for k=10 (10 fold) is:  0.9666666666666668\n"
     ]
    }
   ],
   "source": [
    "# Use the average accuracy as an estimate of out-of-sample accuracy\n",
    "\n",
    "\n",
    "print(\"Avg for k=10 (10 fold) is: \", scores.mean())"
   ]
  },
  {
   "cell_type": "markdown",
   "metadata": {},
   "source": [
    "#### Because we used KFold_cross_validation, we should be MORE CONFIDENT that this model is more accurate for out-of-sample accuracy."
   ]
  },
  {
   "cell_type": "markdown",
   "metadata": {},
   "source": [
    "#### Let's loop through a range of k for KNN and find the best knn k value using KFOLD.\n"
   ]
  },
  {
   "cell_type": "code",
   "execution_count": 26,
   "metadata": {},
   "outputs": [
    {
     "name": "stdout",
     "output_type": "stream",
     "text": [
      "[0.96, 0.9533333333333334, 0.9666666666666666, 0.9666666666666666, 0.9666666666666668, 0.9666666666666668, 0.9666666666666668, 0.9666666666666668, 0.9733333333333334, 0.9666666666666668, 0.9666666666666668, 0.9733333333333334, 0.9800000000000001, 0.9733333333333334, 0.9733333333333334, 0.9733333333333334, 0.9733333333333334, 0.9800000000000001, 0.9733333333333334, 0.9800000000000001, 0.9666666666666666, 0.9666666666666666, 0.9733333333333334, 0.96, 0.9666666666666666, 0.96, 0.9666666666666666, 0.9533333333333334, 0.9533333333333334, 0.9533333333333334]\n"
     ]
    }
   ],
   "source": [
    "# Searching the optimal k value for KNN model\n",
    "\n",
    "knn_range = range(1,31)\n",
    "knn_scores = []\n",
    "for k in knn_range:\n",
    "    knn = KNeighborsClassifier(n_neighbors = k)\n",
    "    scores = cross_val_score(knn, X, y, cv=10, scoring=\"accuracy\")\n",
    "    knn_scores.append(scores.mean())\n",
    "    \n",
    "print(knn_scores)"
   ]
  },
  {
   "cell_type": "code",
   "execution_count": 27,
   "metadata": {},
   "outputs": [
    {
     "data": {
      "text/plain": [
       "Text(0, 0.5, 'Accuracy score')"
      ]
     },
     "execution_count": 27,
     "metadata": {},
     "output_type": "execute_result"
    },
    {
     "data": {
      "image/png": "[encoded data removed]",
      "text/plain": [
       "<Figure size 432x288 with 1 Axes>"
      ]
     },
     "metadata": {
      "needs_background": "light"
     },
     "output_type": "display_data"
    }
   ],
   "source": [
    "import matplotlib.pyplot as plt\n",
    "%matplotlib inline\n",
    "\n",
    "plt.plot(knn_range, knn_scores)\n",
    "plt.xlabel(\"Value for k in KNN\")\n",
    "plt.ylabel(\"Accuracy score\")"
   ]
  },
  {
   "cell_type": "markdown",
   "metadata": {},
   "source": [
    "#### Some observation when reviewing the matplotlib chart (btw,  OPTIMUM K value for KNN is 20):\n",
    "\n",
    "1. The maximum cross validated accuracy occurs at K equals 13 to 20\n",
    "2. The general shape of the curve is an UPSIDE DOWN u shape, which is quite typical when examining the relationship between a model complexity parameter and model accuracy.\n",
    "3. BIAS variance tradeoff: low values of K (KNN) produce a model of low bias and high variance.  High values of K produces a model with high bias and low variance.  The best model is found in the middle because it appropriately balances bias and variance and thus is most likely to generalize out-of-sample data. When deciding which exact value of K to call the best, it is generally recommended to choose the LEAST COMPLICATED COMPLICATED MODEL.  In this KNN model, higher K values produces simplier models, so in this case, the OPTIMUM K value for KNN is 20.\n"
   ]
  },
  {
   "cell_type": "markdown",
   "metadata": {},
   "source": [
    "#### CONCLUSION!  So here,  OPTIMUM K value for KNN model is 20."
   ]
  },
  {
   "cell_type": "markdown",
   "metadata": {},
   "source": [
    "## Cross validation example for choosing different types of models (in this example, we will decide between KNN and Logistic Regression)."
   ]
  },
  {
   "cell_type": "code",
   "execution_count": 28,
   "metadata": {},
   "outputs": [
    {
     "data": {
      "text/plain": [
       "0.9800000000000001"
      ]
     },
     "execution_count": 28,
     "metadata": {},
     "output_type": "execute_result"
    }
   ],
   "source": [
    "# Run 10-fold-cross-validation for KNN model\n",
    "knn = KNeighborsClassifier(n_neighbors = 20)\n",
    "knn_scores = cross_val_score(knn, X, y, cv=10, scoring=\"accuracy\")\n",
    "knn_scores.mean()"
   ]
  },
  {
   "cell_type": "code",
   "execution_count": 31,
   "metadata": {},
   "outputs": [
    {
     "name": "stderr",
     "output_type": "stream",
     "text": [
      "C:\\Users\\Lenovo\\Anaconda3\\envs\\pythondata\\lib\\site-packages\\sklearn\\linear_model\\_logistic.py:940: ConvergenceWarning: lbfgs failed to converge (status=1):\n",
      "STOP: TOTAL NO. of ITERATIONS REACHED LIMIT.\n",
      "\n",
      "Increase the number of iterations (max_iter) or scale the data as shown in:\n",
      "    https://scikit-learn.org/stable/modules/preprocessing.html\n",
      "Please also refer to the documentation for alternative solver options:\n",
      "    https://scikit-learn.org/stable/modules/linear_model.html#logistic-regression\n",
      "  extra_warning_msg=_LOGISTIC_SOLVER_CONVERGENCE_MSG)\n",
      "C:\\Users\\Lenovo\\Anaconda3\\envs\\pythondata\\lib\\site-packages\\sklearn\\linear_model\\_logistic.py:940: ConvergenceWarning: lbfgs failed to converge (status=1):\n",
      "STOP: TOTAL NO. of ITERATIONS REACHED LIMIT.\n",
      "\n",
      "Increase the number of iterations (max_iter) or scale the data as shown in:\n",
      "    https://scikit-learn.org/stable/modules/preprocessing.html\n",
      "Please also refer to the documentation for alternative solver options:\n",
      "    https://scikit-learn.org/stable/modules/linear_model.html#logistic-regression\n",
      "  extra_warning_msg=_LOGISTIC_SOLVER_CONVERGENCE_MSG)\n",
      "C:\\Users\\Lenovo\\Anaconda3\\envs\\pythondata\\lib\\site-packages\\sklearn\\linear_model\\_logistic.py:940: ConvergenceWarning: lbfgs failed to converge (status=1):\n",
      "STOP: TOTAL NO. of ITERATIONS REACHED LIMIT.\n",
      "\n",
      "Increase the number of iterations (max_iter) or scale the data as shown in:\n",
      "    https://scikit-learn.org/stable/modules/preprocessing.html\n",
      "Please also refer to the documentation for alternative solver options:\n",
      "    https://scikit-learn.org/stable/modules/linear_model.html#logistic-regression\n",
      "  extra_warning_msg=_LOGISTIC_SOLVER_CONVERGENCE_MSG)\n",
      "C:\\Users\\Lenovo\\Anaconda3\\envs\\pythondata\\lib\\site-packages\\sklearn\\linear_model\\_logistic.py:940: ConvergenceWarning: lbfgs failed to converge (status=1):\n",
      "STOP: TOTAL NO. of ITERATIONS REACHED LIMIT.\n",
      "\n",
      "Increase the number of iterations (max_iter) or scale the data as shown in:\n",
      "    https://scikit-learn.org/stable/modules/preprocessing.html\n",
      "Please also refer to the documentation for alternative solver options:\n",
      "    https://scikit-learn.org/stable/modules/linear_model.html#logistic-regression\n",
      "  extra_warning_msg=_LOGISTIC_SOLVER_CONVERGENCE_MSG)\n",
      "C:\\Users\\Lenovo\\Anaconda3\\envs\\pythondata\\lib\\site-packages\\sklearn\\linear_model\\_logistic.py:940: ConvergenceWarning: lbfgs failed to converge (status=1):\n",
      "STOP: TOTAL NO. of ITERATIONS REACHED LIMIT.\n",
      "\n",
      "Increase the number of iterations (max_iter) or scale the data as shown in:\n",
      "    https://scikit-learn.org/stable/modules/preprocessing.html\n",
      "Please also refer to the documentation for alternative solver options:\n",
      "    https://scikit-learn.org/stable/modules/linear_model.html#logistic-regression\n",
      "  extra_warning_msg=_LOGISTIC_SOLVER_CONVERGENCE_MSG)\n",
      "C:\\Users\\Lenovo\\Anaconda3\\envs\\pythondata\\lib\\site-packages\\sklearn\\linear_model\\_logistic.py:940: ConvergenceWarning: lbfgs failed to converge (status=1):\n",
      "STOP: TOTAL NO. of ITERATIONS REACHED LIMIT.\n",
      "\n",
      "Increase the number of iterations (max_iter) or scale the data as shown in:\n",
      "    https://scikit-learn.org/stable/modules/preprocessing.html\n",
      "Please also refer to the documentation for alternative solver options:\n",
      "    https://scikit-learn.org/stable/modules/linear_model.html#logistic-regression\n",
      "  extra_warning_msg=_LOGISTIC_SOLVER_CONVERGENCE_MSG)\n"
     ]
    },
    {
     "data": {
      "text/plain": [
       "0.9733333333333334"
      ]
     },
     "execution_count": 31,
     "metadata": {},
     "output_type": "execute_result"
    }
   ],
   "source": [
    "# Run 10-fold-cross-validation for Logistic Regression model\n",
    "from sklearn.linear_model import LogisticRegression\n",
    "logreg = LogisticRegression()\n",
    "logreg_scores = cross_val_score(logreg, X, y, cv=10, scoring=\"accuracy\")\n",
    "logreg_scores.mean()"
   ]
  },
  {
   "cell_type": "markdown",
   "metadata": {},
   "source": [
    "#### CONCLUSION!  So here, you could conclude that KNN is a better choice.\n"
   ]
  },
  {
   "cell_type": "markdown",
   "metadata": {},
   "source": [
    "## Cross validation example for choosing different features.  Some notes:\n",
    "1. Goal here is to see whether to adding NEWSPAPAER feature in linear regression to help predict Sales in advertising dataset.\n",
    "2. We don't have the advertising dataset in a csv file, so all code has been commented out."
   ]
  },
  {
   "cell_type": "code",
   "execution_count": 32,
   "metadata": {},
   "outputs": [],
   "source": [
    "import pandas as pd\n",
    "import numpy as np\n",
    "from sklearn.linear_model import LinearRegression"
   ]
  },
  {
   "cell_type": "code",
   "execution_count": 33,
   "metadata": {},
   "outputs": [],
   "source": [
    "# Step #1 - Read in csv\n",
    "\n",
    "# df = pd.read_csv(\"advertising.csv\", index_col=0)"
   ]
  },
  {
   "cell_type": "code",
   "execution_count": 34,
   "metadata": {},
   "outputs": [],
   "source": [
    "# Step #2 - create feature columns\n",
    "\n",
    "# feature_cols = df[[\"TV\", \"Radio\", \"Newspaper\"]]\n",
    "# X = data[feature_cols]\n",
    "# y = data.Sales"
   ]
  },
  {
   "cell_type": "code",
   "execution_count": 45,
   "metadata": {},
   "outputs": [],
   "source": [
    "# Step #3 - Instantiate linear regression model. Note we changed the scoring to MEAN_SQUARED_ERROR.  Accuracy is only\n",
    "#           relevant for classification problems.  \n",
    "# Note1 - We actually want to use ROOT MEAN SQUARED ERROR but that is not available via the scoring parameter,\n",
    "#         so will instead use MSE, then later, take the square root.\n",
    "# Note2 - MSE is a loss function which you want to MINIMIZE!\n",
    "# Note3 - You may see negative scores below (Sklearn decided to leave neg # alone so you know its the worst number for\n",
    "#         selection purposes.  Hope this makes sense.)  That's why you may have to make it positive. This may\n",
    "#         have changed with NEWER versions of sklearn\n",
    "# Note4 - ROOT mean squared error is something you want to MINIMIZE.  So the small rmse is, the better!\n",
    "\n",
    "# linearR = LinearRegression()\n",
    "# scores = cross_val_score(linearR, X, y, cv=10, scoring=\"mean_squared_error\")\n",
    "# print(scores)"
   ]
  },
  {
   "cell_type": "code",
   "execution_count": 41,
   "metadata": {},
   "outputs": [],
   "source": [
    "# Step #4 - Make it positive\n",
    "\n",
    "# mse_scores = -scores"
   ]
  },
  {
   "cell_type": "code",
   "execution_count": 42,
   "metadata": {},
   "outputs": [],
   "source": [
    "# Step #5 - calculate ROOT MEAN SQUARED ERROR\n",
    "\n",
    "# rmse_scores = np.sqrt(mse_scores)"
   ]
  },
  {
   "cell_type": "code",
   "execution_count": 43,
   "metadata": {},
   "outputs": [],
   "source": [
    "# Step #6 - calculate the MEAN of rmse\n",
    "\n",
    "# avg_rmse = rmse_scores.mean()"
   ]
  },
  {
   "cell_type": "markdown",
   "metadata": {},
   "source": [
    "#### Now, repeat this process with NEWSPAPER EXCLUDED!!  Compare the avg_rmse for both."
   ]
  },
  {
   "cell_type": "code",
   "execution_count": 44,
   "metadata": {},
   "outputs": [],
   "source": [
    "# feature_cols = df[[\"TV\", \"Radio\"]]\n",
    "# X = data[feature_cols]\n",
    "# without_newspaper = np.sqrt(-cross_val_score(linearR, X, y, cv=10, scoring=\"mean_squared_error\")).mean()"
   ]
  },
  {
   "cell_type": "markdown",
   "metadata": {},
   "source": [
    "#### CONCLUSION!  You want RMSE to be smaller.  So the model (maybe WITHOUT newspaper as a feature) that gives the SMALLER RMSE should be the BETTER model.  "
   ]
  },
  {
   "cell_type": "markdown",
   "metadata": {},
   "source": [
    "## HOW TO IMPROVE CROSS VALIDATION?\n",
    "#### Repeated cross validation\n",
    "1. Repeated cross validation by manipulating the test_size split\n",
    "2. Reducing the variance (?)\n",
    "\n",
    "####  Creating a HOLD OUT set\n",
    "\n",
    "1. Take out some of the data (like a test/split from the test/split)\n",
    "\n",
    "#### Feature engineering and selection within EACH cross-validation iteration\n"
   ]
  }
 ],
 "metadata": {
  "kernelspec": {
   "display_name": "Python 3",
   "language": "python",
   "name": "python3"
  },
  "language_info": {
   "codemirror_mode": {
    "name": "ipython",
    "version": 3
   },
   "file_extension": ".py",
   "mimetype": "text/x-python",
   "name": "python",
   "nbconvert_exporter": "python",
   "pygments_lexer": "ipython3",
   "version": "3.7.6"
  }
 },
 "nbformat": 4,
 "nbformat_minor": 2
}
